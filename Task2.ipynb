{
 "cells": [
  {
   "cell_type": "code",
   "execution_count": null,
   "id": "2254ec6d-7929-4d14-a4ab-de03ab634184",
   "metadata": {},
   "outputs": [
    {
     "data": {
      "text/html": [
       "<div>\n",
       "<style scoped>\n",
       "    .dataframe tbody tr th:only-of-type {\n",
       "        vertical-align: middle;\n",
       "    }\n",
       "\n",
       "    .dataframe tbody tr th {\n",
       "        vertical-align: top;\n",
       "    }\n",
       "\n",
       "    .dataframe thead th {\n",
       "        text-align: right;\n",
       "    }\n",
       "</style>\n",
       "<table border=\"1\" class=\"dataframe\">\n",
       "  <thead>\n",
       "    <tr style=\"text-align: right;\">\n",
       "      <th></th>\n",
       "      <th>Name</th>\n",
       "      <th>HEX</th>\n",
       "      <th>RGB</th>\n",
       "    </tr>\n",
       "  </thead>\n",
       "  <tbody>\n",
       "    <tr>\n",
       "      <th>0</th>\n",
       "      <td>Alice Blue</td>\n",
       "      <td>#F0F8FF</td>\n",
       "      <td>rgb(94,97,100)</td>\n",
       "    </tr>\n",
       "    <tr>\n",
       "      <th>1</th>\n",
       "      <td>Antique White</td>\n",
       "      <td>#000000</td>\n",
       "      <td>rgb(98,92,84)</td>\n",
       "    </tr>\n",
       "    <tr>\n",
       "      <th>2</th>\n",
       "      <td>Aqua</td>\n",
       "      <td>#00FFFF</td>\n",
       "      <td>rgb(0,100,100)</td>\n",
       "    </tr>\n",
       "    <tr>\n",
       "      <th>3</th>\n",
       "      <td>Aquamarine</td>\n",
       "      <td>NaN</td>\n",
       "      <td>rgb(50,100,83)</td>\n",
       "    </tr>\n",
       "    <tr>\n",
       "      <th>4</th>\n",
       "      <td>Azure</td>\n",
       "      <td>#F0FFFF</td>\n",
       "      <td>rgb(94,100,100)</td>\n",
       "    </tr>\n",
       "    <tr>\n",
       "      <th>5</th>\n",
       "      <td>Beige</td>\n",
       "      <td>#F5F5DC</td>\n",
       "      <td>rgb(96,96,86)</td>\n",
       "    </tr>\n",
       "    <tr>\n",
       "      <th>6</th>\n",
       "      <td>Bisque</td>\n",
       "      <td>#FFE4C4</td>\n",
       "      <td>rgb(100,89,77)</td>\n",
       "    </tr>\n",
       "    <tr>\n",
       "      <th>7</th>\n",
       "      <td>Black</td>\n",
       "      <td>#000000</td>\n",
       "      <td>rgb(0,0,0)</td>\n",
       "    </tr>\n",
       "    <tr>\n",
       "      <th>8</th>\n",
       "      <td>Blanched Almond</td>\n",
       "      <td>#FFEBCD</td>\n",
       "      <td>rgb(100,92,80)</td>\n",
       "    </tr>\n",
       "    <tr>\n",
       "      <th>9</th>\n",
       "      <td>Blue</td>\n",
       "      <td>#0000FF</td>\n",
       "      <td>rgb(0,0,0)</td>\n",
       "    </tr>\n",
       "    <tr>\n",
       "      <th>10</th>\n",
       "      <td>Blue Violet</td>\n",
       "      <td>#8A2BE2</td>\n",
       "      <td>rgb(54,17,89)</td>\n",
       "    </tr>\n",
       "    <tr>\n",
       "      <th>11</th>\n",
       "      <td>Brown</td>\n",
       "      <td>#A52A2A</td>\n",
       "      <td>rgb(65,16,16)</td>\n",
       "    </tr>\n",
       "    <tr>\n",
       "      <th>12</th>\n",
       "      <td>Burlywood</td>\n",
       "      <td>#DEB887</td>\n",
       "      <td>rgb(87,72,53)</td>\n",
       "    </tr>\n",
       "    <tr>\n",
       "      <th>13</th>\n",
       "      <td>Cadet Blue</td>\n",
       "      <td>#5F9EA0</td>\n",
       "      <td>rgb(37,62,63)</td>\n",
       "    </tr>\n",
       "  </tbody>\n",
       "</table>\n",
       "</div>"
      ],
      "text/plain": [
       "               Name      HEX              RGB\n",
       "0        Alice Blue  #F0F8FF   rgb(94,97,100)\n",
       "1     Antique White  #000000    rgb(98,92,84)\n",
       "2              Aqua  #00FFFF   rgb(0,100,100)\n",
       "3        Aquamarine      NaN   rgb(50,100,83)\n",
       "4             Azure  #F0FFFF  rgb(94,100,100)\n",
       "5             Beige  #F5F5DC    rgb(96,96,86)\n",
       "6            Bisque  #FFE4C4   rgb(100,89,77)\n",
       "7             Black  #000000       rgb(0,0,0)\n",
       "8   Blanched Almond  #FFEBCD   rgb(100,92,80)\n",
       "9              Blue  #0000FF       rgb(0,0,0)\n",
       "10      Blue Violet  #8A2BE2    rgb(54,17,89)\n",
       "11            Brown  #A52A2A    rgb(65,16,16)\n",
       "12        Burlywood  #DEB887    rgb(87,72,53)\n",
       "13       Cadet Blue  #5F9EA0    rgb(37,62,63)"
      ]
     },
     "execution_count": 21,
     "metadata": {},
     "output_type": "execute_result"
    }
   ],
   "source": [
    "#read CSV files\n",
    "import pandas as pd\n",
    "df = pd.read_csv(\"C:\\\\Users\\\\sujit\\\\Downloads\\\\color_x11.csv\")\n",
    "df"
   ]
  },
  {
   "cell_type": "code",
   "execution_count": 23,
   "id": "3a7b0e69-7a9e-4192-b470-ee51d046ab11",
   "metadata": {},
   "outputs": [
    {
     "name": "stdout",
     "output_type": "stream",
     "text": [
      "         Name  RGB\n",
      "HEX               \n",
      "#000000     2    2\n",
      "#0000FF     1    1\n",
      "#00FFFF     1    1\n",
      "#5F9EA0     1    1\n",
      "#8A2BE2     1    1\n",
      "#A52A2A     1    1\n",
      "#DEB887     1    1\n",
      "#F0F8FF     1    1\n",
      "#F0FFFF     1    1\n",
      "#F5F5DC     1    1\n",
      "#FFE4C4     1    1\n",
      "#FFEBCD     1    1\n"
     ]
    }
   ],
   "source": [
    "#data manipulation operations- grouping\n",
    "group_data = df.groupby('HEX')\n",
    "result = group_data.count()\n",
    "print(result)"
   ]
  },
  {
   "cell_type": "code",
   "execution_count": 27,
   "id": "3ea06c5a-c41e-4665-918d-d06d402580f4",
   "metadata": {},
   "outputs": [
    {
     "name": "stdout",
     "output_type": "stream",
     "text": [
      "    Name      HEX         RGB\n",
      "7  Black  #000000  rgb(0,0,0)\n",
      "9   Blue  #0000FF  rgb(0,0,0)\n"
     ]
    }
   ],
   "source": [
    "#data manipulation operations- filtering\n",
    "filter_df = df[df['RGB'] == 'rgb(0,0,0)']\n",
    "print(filter_df)"
   ]
  },
  {
   "cell_type": "code",
   "execution_count": 28,
   "id": "7b75b98a-b852-44f4-bf8f-fcce547c9851",
   "metadata": {},
   "outputs": [
    {
     "name": "stdout",
     "output_type": "stream",
     "text": [
      "               Name      HEX              RGB\n",
      "7             Black  #000000       rgb(0,0,0)\n",
      "9              Blue  #0000FF       rgb(0,0,0)\n",
      "2              Aqua  #00FFFF   rgb(0,100,100)\n",
      "6            Bisque  #FFE4C4   rgb(100,89,77)\n",
      "8   Blanched Almond  #FFEBCD   rgb(100,92,80)\n",
      "13       Cadet Blue  #5F9EA0    rgb(37,62,63)\n",
      "3        Aquamarine      NaN   rgb(50,100,83)\n",
      "10      Blue Violet  #8A2BE2    rgb(54,17,89)\n",
      "11            Brown  #A52A2A    rgb(65,16,16)\n",
      "12        Burlywood  #DEB887    rgb(87,72,53)\n",
      "4             Azure  #F0FFFF  rgb(94,100,100)\n",
      "0        Alice Blue  #F0F8FF   rgb(94,97,100)\n",
      "5             Beige  #F5F5DC    rgb(96,96,86)\n",
      "1     Antique White  #000000    rgb(98,92,84)\n"
     ]
    }
   ],
   "source": [
    "#data manipulation operations- sorting\n",
    "df = df.sort_values(by = 'RGB')\n",
    "print(df)"
   ]
  },
  {
   "cell_type": "code",
   "execution_count": 29,
   "id": "028e5c1f-b089-480f-a1ca-24a268f6b86c",
   "metadata": {},
   "outputs": [
    {
     "name": "stdout",
     "output_type": "stream",
     "text": [
      "None\n"
     ]
    }
   ],
   "source": [
    "#manipulation data frames \n",
    "data = df.to_csv(\"color_x11.csv\", index = False)\n",
    "print(data)"
   ]
  },
  {
   "cell_type": "code",
   "execution_count": 30,
   "id": "7e849b18-b63a-4c11-9e7c-bc0ffcc0aef8",
   "metadata": {},
   "outputs": [
    {
     "name": "stdout",
     "output_type": "stream",
     "text": [
      "               Name      HEX              RGB\n",
      "7             Black  #000000       rgb(0,0,0)\n",
      "9              Blue  #0000FF       rgb(0,0,0)\n",
      "2              Aqua  #00FFFF   rgb(0,100,100)\n",
      "6            Bisque  #FFE4C4   rgb(100,89,77)\n",
      "8   Blanched Almond  #FFEBCD   rgb(100,92,80)\n",
      "13       Cadet Blue  #5F9EA0    rgb(37,62,63)\n",
      "3        Aquamarine      NaN   rgb(50,100,83)\n",
      "10      Blue Violet  #8A2BE2    rgb(54,17,89)\n",
      "11            Brown  #A52A2A    rgb(65,16,16)\n",
      "12        Burlywood  #DEB887    rgb(87,72,53)\n",
      "4             Azure  #F0FFFF  rgb(94,100,100)\n",
      "0        Alice Blue  #F0F8FF   rgb(94,97,100)\n",
      "5             Beige  #F5F5DC    rgb(96,96,86)\n"
     ]
    }
   ],
   "source": [
    "#removing duplicate data\n",
    "df.drop(axis=1, index=8)\n",
    "data_drop = df.drop_duplicates(subset=['HEX'])\n",
    "print(data_drop)"
   ]
  }
 ],
 "metadata": {
  "kernelspec": {
   "display_name": "Python 3 (ipykernel)",
   "language": "python",
   "name": "python3"
  },
  "language_info": {
   "codemirror_mode": {
    "name": "ipython",
    "version": 3
   },
   "file_extension": ".py",
   "mimetype": "text/x-python",
   "name": "python",
   "nbconvert_exporter": "python",
   "pygments_lexer": "ipython3",
   "version": "3.12.4"
  }
 },
 "nbformat": 4,
 "nbformat_minor": 5
}
